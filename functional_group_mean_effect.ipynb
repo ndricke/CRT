{
 "cells": [
  {
   "cell_type": "code",
   "execution_count": 18,
   "metadata": {},
   "outputs": [],
   "source": [
    "import pandas as pd"
   ]
  },
  {
   "cell_type": "code",
   "execution_count": 19,
   "metadata": {},
   "outputs": [],
   "source": [
    "df_tetry17 = pd.read_csv(\"catdata_dGrxn_tetry-17.csv\", index_col=0)\n",
    "df_tetry20 = pd.read_csv(\"catdata_dGrxn_tetry-20.csv\", index_col=0)\n",
    "df_tetrid = pd.read_csv(\"catdata_dGrxn_tetrid.csv\", index_col=0)"
   ]
  },
  {
   "cell_type": "code",
   "execution_count": 32,
   "metadata": {},
   "outputs": [],
   "source": [
    "df_tetrid = pd.concat([df_tetry17, df_tetry20, df_tetrid])"
   ]
  },
  {
   "cell_type": "code",
   "execution_count": 33,
   "metadata": {},
   "outputs": [],
   "source": [
    "sel_cols = [\"func\", \"None_O2H\", \"O2H_O\", \"O_OH\", \"OH_None\"]"
   ]
  },
  {
   "cell_type": "code",
   "execution_count": 34,
   "metadata": {},
   "outputs": [],
   "source": [
    "df_tetrid_mean = df_tetrid[sel_cols].groupby(\"func\").mean()\n",
    "df_tetrid_stdev = df_tetrid[sel_cols].groupby(\"func\").std()\n",
    "df_tetrid_mst = df_tetrid_mean.merge(df_tetrid_stdev, left_index=True, right_index=True, suffixes=[\"\",\"_std\"])\n",
    "df_tetrid_mst = df_tetrid_mst.round(2)\n",
    "df_tetrid_gg = df_tetrid_mst.groupby(df_tetrid_mst.columns.str.split(\"_\").str[0], axis=1).apply(lambda x: x.astype(str).apply('±'.join, 1))"
   ]
  },
  {
   "cell_type": "code",
   "execution_count": 35,
   "metadata": {},
   "outputs": [
    {
     "data": {
      "text/html": [
       "<div>\n",
       "<style scoped>\n",
       "    .dataframe tbody tr th:only-of-type {\n",
       "        vertical-align: middle;\n",
       "    }\n",
       "\n",
       "    .dataframe tbody tr th {\n",
       "        vertical-align: top;\n",
       "    }\n",
       "\n",
       "    .dataframe thead th {\n",
       "        text-align: right;\n",
       "    }\n",
       "</style>\n",
       "<table border=\"1\" class=\"dataframe\">\n",
       "  <thead>\n",
       "    <tr style=\"text-align: right;\">\n",
       "      <th></th>\n",
       "      <th>None</th>\n",
       "      <th>O</th>\n",
       "      <th>O2H</th>\n",
       "      <th>OH</th>\n",
       "    </tr>\n",
       "    <tr>\n",
       "      <th>func</th>\n",
       "      <th></th>\n",
       "      <th></th>\n",
       "      <th></th>\n",
       "      <th></th>\n",
       "    </tr>\n",
       "  </thead>\n",
       "  <tbody>\n",
       "    <tr>\n",
       "      <th>Br</th>\n",
       "      <td>-0.01±0.06</td>\n",
       "      <td>0.02±0.05</td>\n",
       "      <td>0.01±0.04</td>\n",
       "      <td>-0.02±0.06</td>\n",
       "    </tr>\n",
       "    <tr>\n",
       "      <th>C</th>\n",
       "      <td>-0.0±0.05</td>\n",
       "      <td>0.02±0.03</td>\n",
       "      <td>-0.01±0.04</td>\n",
       "      <td>-0.0±0.03</td>\n",
       "    </tr>\n",
       "    <tr>\n",
       "      <th>C=O</th>\n",
       "      <td>0.1±0.13</td>\n",
       "      <td>0.02±0.1</td>\n",
       "      <td>-0.01±0.11</td>\n",
       "      <td>-0.11±0.13</td>\n",
       "    </tr>\n",
       "    <tr>\n",
       "      <th>Cl</th>\n",
       "      <td>-0.01±0.05</td>\n",
       "      <td>0.02±0.05</td>\n",
       "      <td>0.01±0.03</td>\n",
       "      <td>-0.01±0.06</td>\n",
       "    </tr>\n",
       "    <tr>\n",
       "      <th>F</th>\n",
       "      <td>-0.04±0.11</td>\n",
       "      <td>0.03±0.11</td>\n",
       "      <td>-0.05±0.13</td>\n",
       "      <td>0.06±0.21</td>\n",
       "    </tr>\n",
       "    <tr>\n",
       "      <th>N</th>\n",
       "      <td>0.08±0.15</td>\n",
       "      <td>0.08±0.08</td>\n",
       "      <td>-0.07±0.08</td>\n",
       "      <td>-0.09±0.17</td>\n",
       "    </tr>\n",
       "    <tr>\n",
       "      <th>O</th>\n",
       "      <td>-0.06±0.22</td>\n",
       "      <td>0.05±0.05</td>\n",
       "      <td>-0.04±0.06</td>\n",
       "      <td>0.05±0.22</td>\n",
       "    </tr>\n",
       "    <tr>\n",
       "      <th>OC</th>\n",
       "      <td>-0.06±0.22</td>\n",
       "      <td>0.05±0.08</td>\n",
       "      <td>-0.05±0.09</td>\n",
       "      <td>0.07±0.24</td>\n",
       "    </tr>\n",
       "    <tr>\n",
       "      <th>cyanide</th>\n",
       "      <td>0.08±0.14</td>\n",
       "      <td>0.04±0.15</td>\n",
       "      <td>-0.03±0.15</td>\n",
       "      <td>-0.09±0.16</td>\n",
       "    </tr>\n",
       "    <tr>\n",
       "      <th>methylamine</th>\n",
       "      <td>-0.01±0.06</td>\n",
       "      <td>0.03±0.08</td>\n",
       "      <td>0.0±0.08</td>\n",
       "      <td>-0.02±0.07</td>\n",
       "    </tr>\n",
       "    <tr>\n",
       "      <th>trifluoromethyl</th>\n",
       "      <td>0.03±0.1</td>\n",
       "      <td>0.0±0.04</td>\n",
       "      <td>-0.01±0.09</td>\n",
       "      <td>-0.02±0.09</td>\n",
       "    </tr>\n",
       "  </tbody>\n",
       "</table>\n",
       "</div>"
      ],
      "text/plain": [
       "                       None          O         O2H          OH\n",
       "func                                                          \n",
       "Br               -0.01±0.06  0.02±0.05   0.01±0.04  -0.02±0.06\n",
       "C                 -0.0±0.05  0.02±0.03  -0.01±0.04   -0.0±0.03\n",
       "C=O                0.1±0.13   0.02±0.1  -0.01±0.11  -0.11±0.13\n",
       "Cl               -0.01±0.05  0.02±0.05   0.01±0.03  -0.01±0.06\n",
       "F                -0.04±0.11  0.03±0.11  -0.05±0.13   0.06±0.21\n",
       "N                 0.08±0.15  0.08±0.08  -0.07±0.08  -0.09±0.17\n",
       "O                -0.06±0.22  0.05±0.05  -0.04±0.06   0.05±0.22\n",
       "OC               -0.06±0.22  0.05±0.08  -0.05±0.09   0.07±0.24\n",
       "cyanide           0.08±0.14  0.04±0.15  -0.03±0.15  -0.09±0.16\n",
       "methylamine      -0.01±0.06  0.03±0.08    0.0±0.08  -0.02±0.07\n",
       "trifluoromethyl    0.03±0.1   0.0±0.04  -0.01±0.09  -0.02±0.09"
      ]
     },
     "execution_count": 35,
     "metadata": {},
     "output_type": "execute_result"
    }
   ],
   "source": [
    "df_tetrid_gg"
   ]
  },
  {
   "cell_type": "code",
   "execution_count": 36,
   "metadata": {},
   "outputs": [],
   "source": [
    "df_tetrid_gg.to_csv(\"MeanStdev_Func_Effect.csv\")"
   ]
  },
  {
   "cell_type": "code",
   "execution_count": null,
   "metadata": {},
   "outputs": [],
   "source": []
  }
 ],
 "metadata": {
  "kernelspec": {
   "display_name": "Python 3",
   "language": "python",
   "name": "python3"
  },
  "language_info": {
   "codemirror_mode": {
    "name": "ipython",
    "version": 3
   },
   "file_extension": ".py",
   "mimetype": "text/x-python",
   "name": "python",
   "nbconvert_exporter": "python",
   "pygments_lexer": "ipython3",
   "version": "3.7.2"
  }
 },
 "nbformat": 4,
 "nbformat_minor": 2
}
