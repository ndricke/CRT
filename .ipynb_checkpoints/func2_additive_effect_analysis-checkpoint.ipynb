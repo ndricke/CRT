{
 "cells": [
  {
   "cell_type": "code",
   "execution_count": 1,
   "metadata": {},
   "outputs": [],
   "source": [
    "import pandas as pd\n",
    "import os\n",
    "import matplotlib.pyplot as plt"
   ]
  },
  {
   "cell_type": "code",
   "execution_count": 2,
   "metadata": {},
   "outputs": [],
   "source": [
    "O2_energy = -150.32246447"
   ]
  },
  {
   "cell_type": "code",
   "execution_count": 3,
   "metadata": {},
   "outputs": [
    {
     "ename": "ValueError",
     "evalue": "Expected object or value",
     "output_type": "error",
     "traceback": [
      "\u001b[0;31m---------------------------------------------------------------------------\u001b[0m",
      "\u001b[0;31mValueError\u001b[0m                                Traceback (most recent call last)",
      "\u001b[0;32m<ipython-input-3-9019dfbccbbf>\u001b[0m in \u001b[0;36m<module>\u001b[0;34m\u001b[0m\n\u001b[0;32m----> 1\u001b[0;31m \u001b[0mdf_func1\u001b[0m \u001b[0;34m=\u001b[0m \u001b[0mpd\u001b[0m\u001b[0;34m.\u001b[0m\u001b[0mread_json\u001b[0m\u001b[0;34m(\u001b[0m\u001b[0;34m\"catdata_dGrxn.json\"\u001b[0m\u001b[0;34m)\u001b[0m\u001b[0;34m\u001b[0m\u001b[0;34m\u001b[0m\u001b[0m\n\u001b[0m",
      "\u001b[0;32m~/local/opt/miniconda/envs/ds/lib/python3.7/site-packages/pandas/io/json/json.py\u001b[0m in \u001b[0;36mread_json\u001b[0;34m(path_or_buf, orient, typ, dtype, convert_axes, convert_dates, keep_default_dates, numpy, precise_float, date_unit, encoding, lines, chunksize, compression)\u001b[0m\n\u001b[1;32m    425\u001b[0m         \u001b[0;32mreturn\u001b[0m \u001b[0mjson_reader\u001b[0m\u001b[0;34m\u001b[0m\u001b[0;34m\u001b[0m\u001b[0m\n\u001b[1;32m    426\u001b[0m \u001b[0;34m\u001b[0m\u001b[0m\n\u001b[0;32m--> 427\u001b[0;31m     \u001b[0mresult\u001b[0m \u001b[0;34m=\u001b[0m \u001b[0mjson_reader\u001b[0m\u001b[0;34m.\u001b[0m\u001b[0mread\u001b[0m\u001b[0;34m(\u001b[0m\u001b[0;34m)\u001b[0m\u001b[0;34m\u001b[0m\u001b[0;34m\u001b[0m\u001b[0m\n\u001b[0m\u001b[1;32m    428\u001b[0m     \u001b[0;32mif\u001b[0m \u001b[0mshould_close\u001b[0m\u001b[0;34m:\u001b[0m\u001b[0;34m\u001b[0m\u001b[0;34m\u001b[0m\u001b[0m\n\u001b[1;32m    429\u001b[0m         \u001b[0;32mtry\u001b[0m\u001b[0;34m:\u001b[0m\u001b[0;34m\u001b[0m\u001b[0;34m\u001b[0m\u001b[0m\n",
      "\u001b[0;32m~/local/opt/miniconda/envs/ds/lib/python3.7/site-packages/pandas/io/json/json.py\u001b[0m in \u001b[0;36mread\u001b[0;34m(self)\u001b[0m\n\u001b[1;32m    535\u001b[0m             )\n\u001b[1;32m    536\u001b[0m         \u001b[0;32melse\u001b[0m\u001b[0;34m:\u001b[0m\u001b[0;34m\u001b[0m\u001b[0;34m\u001b[0m\u001b[0m\n\u001b[0;32m--> 537\u001b[0;31m             \u001b[0mobj\u001b[0m \u001b[0;34m=\u001b[0m \u001b[0mself\u001b[0m\u001b[0;34m.\u001b[0m\u001b[0m_get_object_parser\u001b[0m\u001b[0;34m(\u001b[0m\u001b[0mself\u001b[0m\u001b[0;34m.\u001b[0m\u001b[0mdata\u001b[0m\u001b[0;34m)\u001b[0m\u001b[0;34m\u001b[0m\u001b[0;34m\u001b[0m\u001b[0m\n\u001b[0m\u001b[1;32m    538\u001b[0m         \u001b[0mself\u001b[0m\u001b[0;34m.\u001b[0m\u001b[0mclose\u001b[0m\u001b[0;34m(\u001b[0m\u001b[0;34m)\u001b[0m\u001b[0;34m\u001b[0m\u001b[0;34m\u001b[0m\u001b[0m\n\u001b[1;32m    539\u001b[0m         \u001b[0;32mreturn\u001b[0m \u001b[0mobj\u001b[0m\u001b[0;34m\u001b[0m\u001b[0;34m\u001b[0m\u001b[0m\n",
      "\u001b[0;32m~/local/opt/miniconda/envs/ds/lib/python3.7/site-packages/pandas/io/json/json.py\u001b[0m in \u001b[0;36m_get_object_parser\u001b[0;34m(self, json)\u001b[0m\n\u001b[1;32m    554\u001b[0m         \u001b[0mobj\u001b[0m \u001b[0;34m=\u001b[0m \u001b[0;32mNone\u001b[0m\u001b[0;34m\u001b[0m\u001b[0;34m\u001b[0m\u001b[0m\n\u001b[1;32m    555\u001b[0m         \u001b[0;32mif\u001b[0m \u001b[0mtyp\u001b[0m \u001b[0;34m==\u001b[0m \u001b[0;34m'frame'\u001b[0m\u001b[0;34m:\u001b[0m\u001b[0;34m\u001b[0m\u001b[0;34m\u001b[0m\u001b[0m\n\u001b[0;32m--> 556\u001b[0;31m             \u001b[0mobj\u001b[0m \u001b[0;34m=\u001b[0m \u001b[0mFrameParser\u001b[0m\u001b[0;34m(\u001b[0m\u001b[0mjson\u001b[0m\u001b[0;34m,\u001b[0m \u001b[0;34m**\u001b[0m\u001b[0mkwargs\u001b[0m\u001b[0;34m)\u001b[0m\u001b[0;34m.\u001b[0m\u001b[0mparse\u001b[0m\u001b[0;34m(\u001b[0m\u001b[0;34m)\u001b[0m\u001b[0;34m\u001b[0m\u001b[0;34m\u001b[0m\u001b[0m\n\u001b[0m\u001b[1;32m    557\u001b[0m \u001b[0;34m\u001b[0m\u001b[0m\n\u001b[1;32m    558\u001b[0m         \u001b[0;32mif\u001b[0m \u001b[0mtyp\u001b[0m \u001b[0;34m==\u001b[0m \u001b[0;34m'series'\u001b[0m \u001b[0;32mor\u001b[0m \u001b[0mobj\u001b[0m \u001b[0;32mis\u001b[0m \u001b[0;32mNone\u001b[0m\u001b[0;34m:\u001b[0m\u001b[0;34m\u001b[0m\u001b[0;34m\u001b[0m\u001b[0m\n",
      "\u001b[0;32m~/local/opt/miniconda/envs/ds/lib/python3.7/site-packages/pandas/io/json/json.py\u001b[0m in \u001b[0;36mparse\u001b[0;34m(self)\u001b[0m\n\u001b[1;32m    650\u001b[0m \u001b[0;34m\u001b[0m\u001b[0m\n\u001b[1;32m    651\u001b[0m         \u001b[0;32melse\u001b[0m\u001b[0;34m:\u001b[0m\u001b[0;34m\u001b[0m\u001b[0;34m\u001b[0m\u001b[0m\n\u001b[0;32m--> 652\u001b[0;31m             \u001b[0mself\u001b[0m\u001b[0;34m.\u001b[0m\u001b[0m_parse_no_numpy\u001b[0m\u001b[0;34m(\u001b[0m\u001b[0;34m)\u001b[0m\u001b[0;34m\u001b[0m\u001b[0;34m\u001b[0m\u001b[0m\n\u001b[0m\u001b[1;32m    653\u001b[0m \u001b[0;34m\u001b[0m\u001b[0m\n\u001b[1;32m    654\u001b[0m         \u001b[0;32mif\u001b[0m \u001b[0mself\u001b[0m\u001b[0;34m.\u001b[0m\u001b[0mobj\u001b[0m \u001b[0;32mis\u001b[0m \u001b[0;32mNone\u001b[0m\u001b[0;34m:\u001b[0m\u001b[0;34m\u001b[0m\u001b[0;34m\u001b[0m\u001b[0m\n",
      "\u001b[0;32m~/local/opt/miniconda/envs/ds/lib/python3.7/site-packages/pandas/io/json/json.py\u001b[0m in \u001b[0;36m_parse_no_numpy\u001b[0;34m(self)\u001b[0m\n\u001b[1;32m    869\u001b[0m         \u001b[0;32mif\u001b[0m \u001b[0morient\u001b[0m \u001b[0;34m==\u001b[0m \u001b[0;34m\"columns\"\u001b[0m\u001b[0;34m:\u001b[0m\u001b[0;34m\u001b[0m\u001b[0;34m\u001b[0m\u001b[0m\n\u001b[1;32m    870\u001b[0m             self.obj = DataFrame(\n\u001b[0;32m--> 871\u001b[0;31m                 loads(json, precise_float=self.precise_float), dtype=None)\n\u001b[0m\u001b[1;32m    872\u001b[0m         \u001b[0;32melif\u001b[0m \u001b[0morient\u001b[0m \u001b[0;34m==\u001b[0m \u001b[0;34m\"split\"\u001b[0m\u001b[0;34m:\u001b[0m\u001b[0;34m\u001b[0m\u001b[0;34m\u001b[0m\u001b[0m\n\u001b[1;32m    873\u001b[0m             decoded = {str(k): v for k, v in compat.iteritems(\n",
      "\u001b[0;31mValueError\u001b[0m: Expected object or value"
     ]
    }
   ],
   "source": [
    "df_func1 = pd.read_json(\"catdata_dGrxn.json\")"
   ]
  },
  {
   "cell_type": "code",
   "execution_count": null,
   "metadata": {},
   "outputs": [],
   "source": [
    "df_func1[\"func\"] = df_func1[\"func_O2\"].str[0]\n",
    "df_func1[\"loc\"] = df_func1[\"loc_O2\"].str[0]"
   ]
  },
  {
   "cell_type": "code",
   "execution_count": null,
   "metadata": {},
   "outputs": [],
   "source": [
    "def get_funcnum(species, lstrip_val, remove_right=0):\n",
    "    if remove_right > 0:\n",
    "        species_cut = species[:-1*remove_right]\n",
    "    else:\n",
    "        species_cut = species\n",
    "    return int(species_cut.lstrip(lstrip_val))\n",
    "    \n",
    "print(get_funcnum(\"tetrid-func35O2\", \"tetrid-func\", 2))"
   ]
  },
  {
   "cell_type": "code",
   "execution_count": null,
   "metadata": {},
   "outputs": [],
   "source": [
    "df_tetrid2 = pd.read_json(\"tetrid2/scandir_data/tetrid.json\")\n",
    "df_tetrid2_O2 = pd.read_json(\"tetrid2/scandir_data/tetrid_O2.json\")\n",
    "df_tetry2 = pd.read_json(\"tetry2/scandir_data/tetry2.json\")\n",
    "df_tetry2_O2 = pd.read_json(\"tetry2/scandir_data/tetry2_O2.json\")"
   ]
  },
  {
   "cell_type": "code",
   "execution_count": null,
   "metadata": {},
   "outputs": [],
   "source": [
    "df_tetrid2[\"catnum\"] = df_tetrid2[\"Species\"].apply(get_funcnum, args = [\"tetrid-func\", 0])"
   ]
  },
  {
   "cell_type": "code",
   "execution_count": null,
   "metadata": {},
   "outputs": [],
   "source": [
    "df_tetrid2_O2[\"catnum\"] = df_tetrid2_O2[\"Species\"].apply(get_funcnum, args = [\"tetrid-func\", 2])\n",
    "df_tetry2[\"catnum\"] = df_tetry2[\"Species\"].apply(get_funcnum, args = [\"tetry-func\", 0])\n",
    "\n",
    "df_tetry2_O2[\"Binding_Site\"] = df_tetry2_O2[\"Species\"].str.split(\"-\").str[-1]\n",
    "df_tetry2_O2[\"Species_base\"] = df_tetry2_O2[\"Species\"].str[:-3]\n",
    "df_tetry2_O2[\"catnum\"] = df_tetry2_O2[\"Species_base\"].apply(get_funcnum, args = [\"tetry-func\", 2])\n"
   ]
  },
  {
   "cell_type": "code",
   "execution_count": null,
   "metadata": {},
   "outputs": [],
   "source": [
    "catfunc_tetrid2 = pd.read_csv(\"catfunc2_list/df_tetrid2_funclist.csv\", index_col=0)\n",
    "catfunc_tetry2 = pd.read_csv(\"catfunc2_list/df_tetry2_funclist.csv\", index_col=0)"
   ]
  },
  {
   "cell_type": "code",
   "execution_count": null,
   "metadata": {},
   "outputs": [],
   "source": [
    "df_tetry2_merge = df_tetry2_O2.merge(df_tetry2, on=\"catnum\", how=\"outer\", suffixes=[\"O2\", \"\"])\n",
    "print(df_tetry2_O2.shape, df_tetry2.shape, df_tetry2_merge.shape)"
   ]
  },
  {
   "cell_type": "code",
   "execution_count": null,
   "metadata": {},
   "outputs": [],
   "source": [
    "df_tetry2_all = df_tetry2_merge.merge(catfunc_tetry2, on=\"catnum\", how=\"outer\")\n",
    "print(df_tetry2_merge.shape, catfunc_tetry2.shape, df_tetry2_all.shape)"
   ]
  },
  {
   "cell_type": "code",
   "execution_count": null,
   "metadata": {},
   "outputs": [],
   "source": [
    "df_tetrid2_merge = df_tetrid2_O2.merge(df_tetrid2, on=\"catnum\", how=\"outer\", suffixes=[\"O2\", \"\"])\n",
    "print(df_tetrid2_O2.shape, df_tetrid2.shape, df_tetrid2_merge.shape)\n",
    "df_tetrid2_all = df_tetrid2_merge.merge(catfunc_tetrid2, on=\"catnum\", how=\"outer\")\n",
    "print(df_tetrid2_merge.shape, catfunc_tetrid2.shape, df_tetrid2_all.shape)"
   ]
  },
  {
   "cell_type": "code",
   "execution_count": null,
   "metadata": {},
   "outputs": [],
   "source": [
    "df_tetrid2_converged = df_tetrid2_all[(df_tetrid2_all[\"GeometryConvergedO2\"] == True) & (df_tetrid2_all[\"GeometryConverged\"] == True)]\n",
    "df_tetry2_converged = df_tetry2_all[(df_tetry2_all[\"GeometryConvergedO2\"] == True) & (df_tetry2_all[\"GeometryConverged\"] == True)]\n",
    "print(df_tetrid2_all.shape, df_tetrid2_converged.shape)\n",
    "print(df_tetry2_all.shape, df_tetry2_converged.shape)"
   ]
  },
  {
   "cell_type": "code",
   "execution_count": null,
   "metadata": {},
   "outputs": [],
   "source": [
    "df_tetry2_converged[\"E_binding_O2\"] = df_tetry2_converged[\"EsolvO2\"] - df_tetry2_converged[\"Esolv\"]\n",
    "df_tetrid2_converged[\"E_binding_O2\"] = df_tetrid2_converged[\"EsolvO2\"] - df_tetrid2_converged[\"Esolv\"]"
   ]
  },
  {
   "cell_type": "code",
   "execution_count": 4,
   "metadata": {},
   "outputs": [
    {
     "ename": "NameError",
     "evalue": "name 'df_func1' is not defined",
     "output_type": "error",
     "traceback": [
      "\u001b[0;31m---------------------------------------------------------------------------\u001b[0m",
      "\u001b[0;31mNameError\u001b[0m                                 Traceback (most recent call last)",
      "\u001b[0;32m<ipython-input-4-d1cdd8b00679>\u001b[0m in \u001b[0;36m<module>\u001b[0;34m\u001b[0m\n\u001b[1;32m      3\u001b[0m \u001b[0;31m#df_func1[\"Esolv_O2\"] - df_func1[\"E_binding_O2\"] - df_func1[\"Esolv_bare\"]\u001b[0m\u001b[0;34m\u001b[0m\u001b[0;34m\u001b[0m\u001b[0;34m\u001b[0m\u001b[0m\n\u001b[1;32m      4\u001b[0m \u001b[0;34m\u001b[0m\u001b[0m\n\u001b[0;32m----> 5\u001b[0;31m \u001b[0mdf_func1\u001b[0m\u001b[0;34m[\u001b[0m\u001b[0;34m\"binding_energy\"\u001b[0m\u001b[0;34m]\u001b[0m \u001b[0;34m=\u001b[0m \u001b[0;36m27.211\u001b[0m\u001b[0;34m*\u001b[0m\u001b[0;34m(\u001b[0m\u001b[0mdf_func1\u001b[0m\u001b[0;34m[\u001b[0m\u001b[0;34m\"E_binding_O2\"\u001b[0m\u001b[0;34m]\u001b[0m \u001b[0;34m-\u001b[0m \u001b[0mO2_energy\u001b[0m\u001b[0;34m)\u001b[0m\u001b[0;34m\u001b[0m\u001b[0;34m\u001b[0m\u001b[0m\n\u001b[0m\u001b[1;32m      6\u001b[0m \u001b[0mdf_tetry2_converged\u001b[0m\u001b[0;34m[\u001b[0m\u001b[0;34m\"binding_energy\"\u001b[0m\u001b[0;34m]\u001b[0m \u001b[0;34m=\u001b[0m \u001b[0;36m27.211\u001b[0m\u001b[0;34m*\u001b[0m\u001b[0;34m(\u001b[0m\u001b[0mdf_tetry2_converged\u001b[0m\u001b[0;34m[\u001b[0m\u001b[0;34m\"E_binding_O2\"\u001b[0m\u001b[0;34m]\u001b[0m \u001b[0;34m-\u001b[0m \u001b[0mO2_energy\u001b[0m\u001b[0;34m)\u001b[0m\u001b[0;34m\u001b[0m\u001b[0;34m\u001b[0m\u001b[0m\n\u001b[1;32m      7\u001b[0m \u001b[0mdf_tetrid2_converged\u001b[0m\u001b[0;34m[\u001b[0m\u001b[0;34m\"binding_energy\"\u001b[0m\u001b[0;34m]\u001b[0m \u001b[0;34m=\u001b[0m \u001b[0;36m27.211\u001b[0m\u001b[0;34m*\u001b[0m\u001b[0;34m(\u001b[0m\u001b[0mdf_tetrid2_converged\u001b[0m\u001b[0;34m[\u001b[0m\u001b[0;34m\"E_binding_O2\"\u001b[0m\u001b[0;34m]\u001b[0m \u001b[0;34m-\u001b[0m \u001b[0mO2_energy\u001b[0m\u001b[0;34m)\u001b[0m\u001b[0;34m\u001b[0m\u001b[0;34m\u001b[0m\u001b[0m\n",
      "\u001b[0;31mNameError\u001b[0m: name 'df_func1' is not defined"
     ]
    }
   ],
   "source": [
    "# E_binding = E_RO2 - E_R - E_O2\n",
    "# E_O2 = E_binding + E_R - E_RO2\n",
    "#df_func1[\"Esolv_O2\"] - df_func1[\"E_binding_O2\"] - df_func1[\"Esolv_bare\"]\n",
    "\n",
    "df_func1[\"binding_energy\"] = 27.211*(df_func1[\"E_binding_O2\"] - O2_energy)\n",
    "df_tetry2_converged[\"binding_energy\"] = 27.211*(df_tetry2_converged[\"E_binding_O2\"] - O2_energy)\n",
    "df_tetrid2_converged[\"binding_energy\"] = 27.211*(df_tetrid2_converged[\"E_binding_O2\"] - O2_energy)"
   ]
  },
  {
   "cell_type": "code",
   "execution_count": 16,
   "metadata": {},
   "outputs": [
    {
     "data": {
      "text/plain": [
       "C                  26\n",
       "OC                 25\n",
       "trifluoromethyl    25\n",
       "O                  24\n",
       "F                  23\n",
       "methylamine        23\n",
       "cyanide            22\n",
       "Cl                 21\n",
       "C=O                21\n",
       "Br                 21\n",
       "N                  21\n",
       "carboxyl            3\n",
       "dicyanamide         2\n",
       "nitroso             1\n",
       "Name: func, dtype: int64"
      ]
     },
     "execution_count": 16,
     "metadata": {},
     "output_type": "execute_result"
    }
   ],
   "source": [
    "df_func1[\"func\"].value_counts()"
   ]
  },
  {
   "cell_type": "code",
   "execution_count": 17,
   "metadata": {},
   "outputs": [],
   "source": [
    "df_gform = pd.read_csv(\"~/work/ORRmol/dGform_catalysts/gform_IntermediateColumns.csv\")"
   ]
  },
  {
   "cell_type": "code",
   "execution_count": 18,
   "metadata": {},
   "outputs": [
    {
     "name": "stdout",
     "output_type": "stream",
     "text": [
      "-0.4504925268301385 -0.483962056832255 -0.6246429268390132\n"
     ]
    }
   ],
   "source": [
    "tetry17_O2_BE = 27.211*(df_gform.iloc[4][\"E_O2\"] - df_gform.iloc[4][\"E\"] - O2_energy)\n",
    "tetry20_O2_BE = 27.211*(df_gform.iloc[5][\"E_O2\"] - df_gform.iloc[5][\"E\"] - O2_energy)\n",
    "tetrid_O2_BE = 27.211*(df_gform.iloc[3][\"E_O2\"] - df_gform.iloc[3][\"E\"] - O2_energy)\n",
    "print(tetry17_O2_BE, tetry20_O2_BE, tetrid_O2_BE)"
   ]
  },
  {
   "cell_type": "code",
   "execution_count": 19,
   "metadata": {},
   "outputs": [
    {
     "name": "stderr",
     "output_type": "stream",
     "text": [
      "/home/nricke/local/opt/miniconda/envs/ds/lib/python3.7/site-packages/ipykernel_launcher.py:4: SettingWithCopyWarning: \n",
      "A value is trying to be set on a copy of a slice from a DataFrame.\n",
      "Try using .loc[row_indexer,col_indexer] = value instead\n",
      "\n",
      "See the caveats in the documentation: http://pandas.pydata.org/pandas-docs/stable/indexing.html#indexing-view-versus-copy\n",
      "  after removing the cwd from sys.path.\n",
      "/home/nricke/local/opt/miniconda/envs/ds/lib/python3.7/site-packages/ipykernel_launcher.py:5: SettingWithCopyWarning: \n",
      "A value is trying to be set on a copy of a slice from a DataFrame.\n",
      "Try using .loc[row_indexer,col_indexer] = value instead\n",
      "\n",
      "See the caveats in the documentation: http://pandas.pydata.org/pandas-docs/stable/indexing.html#indexing-view-versus-copy\n",
      "  \"\"\"\n",
      "/home/nricke/local/opt/miniconda/envs/ds/lib/python3.7/site-packages/ipykernel_launcher.py:6: SettingWithCopyWarning: \n",
      "A value is trying to be set on a copy of a slice from a DataFrame.\n",
      "Try using .loc[row_indexer,col_indexer] = value instead\n",
      "\n",
      "See the caveats in the documentation: http://pandas.pydata.org/pandas-docs/stable/indexing.html#indexing-view-versus-copy\n",
      "  \n"
     ]
    }
   ],
   "source": [
    "df_tetry17 = df_func1[(df_func1[\"Catalyst\"] == \"tetry\") & (df_func1[\"Bound_site\"] == 17)]\n",
    "df_tetry20 = df_func1[(df_func1[\"Catalyst\"] == \"tetry\") & (df_func1[\"Bound_site\"] == 20)]\n",
    "df_tetrid1 = df_func1[df_func1[\"Catalyst\"] == \"tetrid\"]\n",
    "df_tetry17[\"binding_energy\"] = df_tetry17[\"binding_energy\"] - tetry17_O2_BE\n",
    "df_tetry20[\"binding_energy\"] = df_tetry20[\"binding_energy\"] - tetry20_O2_BE\n",
    "df_tetrid1[\"binding_energy\"] = df_tetrid1[\"binding_energy\"] - tetrid_O2_BE"
   ]
  },
  {
   "cell_type": "code",
   "execution_count": 20,
   "metadata": {},
   "outputs": [
    {
     "data": {
      "text/plain": [
       "18    342\n",
       "26    337\n",
       "Name: Binding_Site, dtype: int64"
      ]
     },
     "execution_count": 20,
     "metadata": {},
     "output_type": "execute_result"
    }
   ],
   "source": [
    "df_tetry2_converged[\"Binding_Site\"].value_counts()"
   ]
  },
  {
   "cell_type": "code",
   "execution_count": 21,
   "metadata": {},
   "outputs": [
    {
     "name": "stdout",
     "output_type": "stream",
     "text": [
      "(342, 24) (337, 24)\n"
     ]
    }
   ],
   "source": [
    "df_tetry2_17 = df_tetry2_converged[df_tetry2_converged[\"Binding_Site\"] == \"18\"]\n",
    "df_tetry2_20 = df_tetry2_converged[df_tetry2_converged[\"Binding_Site\"] == \"26\"]\n",
    "print(df_tetry2_17.shape, df_tetry2_20.shape)"
   ]
  },
  {
   "cell_type": "code",
   "execution_count": 22,
   "metadata": {},
   "outputs": [
    {
     "name": "stderr",
     "output_type": "stream",
     "text": [
      "/home/nricke/local/opt/miniconda/envs/ds/lib/python3.7/site-packages/ipykernel_launcher.py:1: SettingWithCopyWarning: \n",
      "A value is trying to be set on a copy of a slice from a DataFrame.\n",
      "Try using .loc[row_indexer,col_indexer] = value instead\n",
      "\n",
      "See the caveats in the documentation: http://pandas.pydata.org/pandas-docs/stable/indexing.html#indexing-view-versus-copy\n",
      "  \"\"\"Entry point for launching an IPython kernel.\n",
      "/home/nricke/local/opt/miniconda/envs/ds/lib/python3.7/site-packages/ipykernel_launcher.py:2: SettingWithCopyWarning: \n",
      "A value is trying to be set on a copy of a slice from a DataFrame.\n",
      "Try using .loc[row_indexer,col_indexer] = value instead\n",
      "\n",
      "See the caveats in the documentation: http://pandas.pydata.org/pandas-docs/stable/indexing.html#indexing-view-versus-copy\n",
      "  \n",
      "/home/nricke/local/opt/miniconda/envs/ds/lib/python3.7/site-packages/ipykernel_launcher.py:3: SettingWithCopyWarning: \n",
      "A value is trying to be set on a copy of a slice from a DataFrame.\n",
      "Try using .loc[row_indexer,col_indexer] = value instead\n",
      "\n",
      "See the caveats in the documentation: http://pandas.pydata.org/pandas-docs/stable/indexing.html#indexing-view-versus-copy\n",
      "  This is separate from the ipykernel package so we can avoid doing imports until\n"
     ]
    }
   ],
   "source": [
    "df_tetry2_17[\"binding_energy\"] = df_tetry2_17[\"binding_energy\"] - tetry17_O2_BE\n",
    "df_tetry2_20[\"binding_energy\"] = df_tetry2_20[\"binding_energy\"] - tetry20_O2_BE\n",
    "df_tetrid2_converged[\"binding_energy\"] = df_tetrid2_converged[\"binding_energy\"] - tetrid_O2_BE"
   ]
  },
  {
   "cell_type": "code",
   "execution_count": 23,
   "metadata": {},
   "outputs": [
    {
     "name": "stdout",
     "output_type": "stream",
     "text": [
      "(342, 24) (267, 30)\n",
      "(337, 24) (316, 30)\n",
      "(115, 22) (115, 28)\n"
     ]
    }
   ],
   "source": [
    "mf_cols = [\"func\", \"loc\", \"binding_energy\"]\n",
    "df_tetry2_17_funcs = df_tetry2_17.merge(df_tetry17[mf_cols], left_on=[\"func_1\", \"loc_1\"], right_on=[\"func\", \"loc\"], suffixes=[\"\",\"_f1\"])\n",
    "df_tetry2_17_funcs = df_tetry2_17_funcs.merge(df_tetry17[mf_cols], left_on=[\"func_2\", \"loc_2\"], right_on=[\"func\", \"loc\"], suffixes=[\"\",\"_f2\"])\n",
    "df_tetry2_20_funcs = df_tetry2_20.merge(df_tetry20[mf_cols], left_on=[\"func_1\", \"loc_1\"], right_on=[\"func\", \"loc\"], suffixes=[\"\",\"_f1\"])\n",
    "df_tetry2_20_funcs = df_tetry2_20_funcs.merge(df_tetry20[mf_cols], left_on=[\"func_2\", \"loc_2\"], right_on=[\"func\", \"loc\"], suffixes=[\"\",\"_f2\"])\n",
    "df_tetrid2_funcs = df_tetrid2_converged.merge(df_tetrid1[mf_cols], left_on=[\"func_1\", \"loc_1\"], right_on=[\"func\", \"loc\"], suffixes=[\"\",\"_f1\"])\n",
    "df_tetrid2_funcs = df_tetrid2_funcs.merge(df_tetrid1[mf_cols], left_on=[\"func_2\", \"loc_2\"], right_on=[\"func\", \"loc\"], suffixes=[\"\",\"_f2\"])\n",
    "print(df_tetry2_17.shape, df_tetry2_17_funcs.shape)\n",
    "print(df_tetry2_20.shape, df_tetry2_20_funcs.shape)\n",
    "print(df_tetrid2_converged.shape, df_tetrid2_funcs.shape)"
   ]
  },
  {
   "cell_type": "code",
   "execution_count": 24,
   "metadata": {},
   "outputs": [
    {
     "data": {
      "text/html": [
       "<div>\n",
       "<style scoped>\n",
       "    .dataframe tbody tr th:only-of-type {\n",
       "        vertical-align: middle;\n",
       "    }\n",
       "\n",
       "    .dataframe tbody tr th {\n",
       "        vertical-align: top;\n",
       "    }\n",
       "\n",
       "    .dataframe thead th {\n",
       "        text-align: right;\n",
       "    }\n",
       "</style>\n",
       "<table border=\"1\" class=\"dataframe\">\n",
       "  <thead>\n",
       "    <tr style=\"text-align: right;\">\n",
       "      <th></th>\n",
       "      <th>binding_energy</th>\n",
       "      <th>binding_energy_f1</th>\n",
       "      <th>binding_energy_f2</th>\n",
       "    </tr>\n",
       "  </thead>\n",
       "  <tbody>\n",
       "    <tr>\n",
       "      <th>0</th>\n",
       "      <td>0.055828</td>\n",
       "      <td>0.065017</td>\n",
       "      <td>-0.013137</td>\n",
       "    </tr>\n",
       "    <tr>\n",
       "      <th>1</th>\n",
       "      <td>0.017070</td>\n",
       "      <td>0.025260</td>\n",
       "      <td>-0.013137</td>\n",
       "    </tr>\n",
       "    <tr>\n",
       "      <th>2</th>\n",
       "      <td>-0.022213</td>\n",
       "      <td>-0.016243</td>\n",
       "      <td>-0.013137</td>\n",
       "    </tr>\n",
       "    <tr>\n",
       "      <th>3</th>\n",
       "      <td>0.043509</td>\n",
       "      <td>0.059094</td>\n",
       "      <td>-0.013137</td>\n",
       "    </tr>\n",
       "    <tr>\n",
       "      <th>4</th>\n",
       "      <td>0.064813</td>\n",
       "      <td>0.075958</td>\n",
       "      <td>-0.013137</td>\n",
       "    </tr>\n",
       "    <tr>\n",
       "      <th>5</th>\n",
       "      <td>-0.024154</td>\n",
       "      <td>-0.012109</td>\n",
       "      <td>-0.013137</td>\n",
       "    </tr>\n",
       "    <tr>\n",
       "      <th>6</th>\n",
       "      <td>0.054605</td>\n",
       "      <td>0.074102</td>\n",
       "      <td>-0.013137</td>\n",
       "    </tr>\n",
       "    <tr>\n",
       "      <th>7</th>\n",
       "      <td>0.011042</td>\n",
       "      <td>0.025787</td>\n",
       "      <td>-0.013137</td>\n",
       "    </tr>\n",
       "    <tr>\n",
       "      <th>8</th>\n",
       "      <td>0.015540</td>\n",
       "      <td>0.024969</td>\n",
       "      <td>-0.013137</td>\n",
       "    </tr>\n",
       "    <tr>\n",
       "      <th>9</th>\n",
       "      <td>0.061907</td>\n",
       "      <td>0.072798</td>\n",
       "      <td>-0.013137</td>\n",
       "    </tr>\n",
       "    <tr>\n",
       "      <th>10</th>\n",
       "      <td>-0.023430</td>\n",
       "      <td>-0.007836</td>\n",
       "      <td>-0.013137</td>\n",
       "    </tr>\n",
       "    <tr>\n",
       "      <th>11</th>\n",
       "      <td>0.095029</td>\n",
       "      <td>0.065017</td>\n",
       "      <td>0.046474</td>\n",
       "    </tr>\n",
       "    <tr>\n",
       "      <th>12</th>\n",
       "      <td>0.062085</td>\n",
       "      <td>0.025260</td>\n",
       "      <td>0.046474</td>\n",
       "    </tr>\n",
       "    <tr>\n",
       "      <th>13</th>\n",
       "      <td>0.022622</td>\n",
       "      <td>-0.016243</td>\n",
       "      <td>0.046474</td>\n",
       "    </tr>\n",
       "    <tr>\n",
       "      <th>14</th>\n",
       "      <td>0.094630</td>\n",
       "      <td>0.059094</td>\n",
       "      <td>0.046474</td>\n",
       "    </tr>\n",
       "    <tr>\n",
       "      <th>15</th>\n",
       "      <td>0.103713</td>\n",
       "      <td>0.075958</td>\n",
       "      <td>0.046474</td>\n",
       "    </tr>\n",
       "    <tr>\n",
       "      <th>16</th>\n",
       "      <td>0.034886</td>\n",
       "      <td>-0.012109</td>\n",
       "      <td>0.046474</td>\n",
       "    </tr>\n",
       "    <tr>\n",
       "      <th>17</th>\n",
       "      <td>0.105096</td>\n",
       "      <td>0.074102</td>\n",
       "      <td>0.046474</td>\n",
       "    </tr>\n",
       "    <tr>\n",
       "      <th>18</th>\n",
       "      <td>0.083337</td>\n",
       "      <td>0.025787</td>\n",
       "      <td>0.046474</td>\n",
       "    </tr>\n",
       "    <tr>\n",
       "      <th>19</th>\n",
       "      <td>0.067425</td>\n",
       "      <td>0.024969</td>\n",
       "      <td>0.046474</td>\n",
       "    </tr>\n",
       "    <tr>\n",
       "      <th>20</th>\n",
       "      <td>0.101706</td>\n",
       "      <td>0.072798</td>\n",
       "      <td>0.046474</td>\n",
       "    </tr>\n",
       "    <tr>\n",
       "      <th>21</th>\n",
       "      <td>0.028937</td>\n",
       "      <td>-0.007836</td>\n",
       "      <td>0.046474</td>\n",
       "    </tr>\n",
       "    <tr>\n",
       "      <th>22</th>\n",
       "      <td>0.061140</td>\n",
       "      <td>0.065017</td>\n",
       "      <td>-0.003877</td>\n",
       "    </tr>\n",
       "    <tr>\n",
       "      <th>23</th>\n",
       "      <td>0.023361</td>\n",
       "      <td>0.025260</td>\n",
       "      <td>-0.003877</td>\n",
       "    </tr>\n",
       "    <tr>\n",
       "      <th>24</th>\n",
       "      <td>-0.015767</td>\n",
       "      <td>-0.016243</td>\n",
       "      <td>-0.003877</td>\n",
       "    </tr>\n",
       "    <tr>\n",
       "      <th>25</th>\n",
       "      <td>0.050892</td>\n",
       "      <td>0.059094</td>\n",
       "      <td>-0.003877</td>\n",
       "    </tr>\n",
       "    <tr>\n",
       "      <th>26</th>\n",
       "      <td>0.070262</td>\n",
       "      <td>0.075958</td>\n",
       "      <td>-0.003877</td>\n",
       "    </tr>\n",
       "    <tr>\n",
       "      <th>27</th>\n",
       "      <td>0.063002</td>\n",
       "      <td>0.074102</td>\n",
       "      <td>-0.003877</td>\n",
       "    </tr>\n",
       "    <tr>\n",
       "      <th>28</th>\n",
       "      <td>0.019295</td>\n",
       "      <td>0.025787</td>\n",
       "      <td>-0.003877</td>\n",
       "    </tr>\n",
       "    <tr>\n",
       "      <th>29</th>\n",
       "      <td>0.021901</td>\n",
       "      <td>0.024969</td>\n",
       "      <td>-0.003877</td>\n",
       "    </tr>\n",
       "    <tr>\n",
       "      <th>...</th>\n",
       "      <td>...</td>\n",
       "      <td>...</td>\n",
       "      <td>...</td>\n",
       "    </tr>\n",
       "    <tr>\n",
       "      <th>85</th>\n",
       "      <td>0.019299</td>\n",
       "      <td>-0.016243</td>\n",
       "      <td>0.070012</td>\n",
       "    </tr>\n",
       "    <tr>\n",
       "      <th>86</th>\n",
       "      <td>0.092230</td>\n",
       "      <td>0.059094</td>\n",
       "      <td>0.070012</td>\n",
       "    </tr>\n",
       "    <tr>\n",
       "      <th>87</th>\n",
       "      <td>0.121592</td>\n",
       "      <td>0.075958</td>\n",
       "      <td>0.070012</td>\n",
       "    </tr>\n",
       "    <tr>\n",
       "      <th>88</th>\n",
       "      <td>0.124410</td>\n",
       "      <td>0.074102</td>\n",
       "      <td>0.070012</td>\n",
       "    </tr>\n",
       "    <tr>\n",
       "      <th>89</th>\n",
       "      <td>0.074800</td>\n",
       "      <td>0.025787</td>\n",
       "      <td>0.070012</td>\n",
       "    </tr>\n",
       "    <tr>\n",
       "      <th>90</th>\n",
       "      <td>0.089868</td>\n",
       "      <td>0.024969</td>\n",
       "      <td>0.070012</td>\n",
       "    </tr>\n",
       "    <tr>\n",
       "      <th>91</th>\n",
       "      <td>0.119592</td>\n",
       "      <td>0.072798</td>\n",
       "      <td>0.070012</td>\n",
       "    </tr>\n",
       "    <tr>\n",
       "      <th>92</th>\n",
       "      <td>0.066750</td>\n",
       "      <td>-0.007836</td>\n",
       "      <td>0.070012</td>\n",
       "    </tr>\n",
       "    <tr>\n",
       "      <th>93</th>\n",
       "      <td>0.064253</td>\n",
       "      <td>0.065017</td>\n",
       "      <td>-0.000260</td>\n",
       "    </tr>\n",
       "    <tr>\n",
       "      <th>94</th>\n",
       "      <td>0.024806</td>\n",
       "      <td>0.025260</td>\n",
       "      <td>-0.000260</td>\n",
       "    </tr>\n",
       "    <tr>\n",
       "      <th>95</th>\n",
       "      <td>-0.016129</td>\n",
       "      <td>-0.016243</td>\n",
       "      <td>-0.000260</td>\n",
       "    </tr>\n",
       "    <tr>\n",
       "      <th>96</th>\n",
       "      <td>0.058051</td>\n",
       "      <td>0.059094</td>\n",
       "      <td>-0.000260</td>\n",
       "    </tr>\n",
       "    <tr>\n",
       "      <th>97</th>\n",
       "      <td>0.075277</td>\n",
       "      <td>0.075958</td>\n",
       "      <td>-0.000260</td>\n",
       "    </tr>\n",
       "    <tr>\n",
       "      <th>98</th>\n",
       "      <td>-0.015257</td>\n",
       "      <td>-0.012109</td>\n",
       "      <td>-0.000260</td>\n",
       "    </tr>\n",
       "    <tr>\n",
       "      <th>99</th>\n",
       "      <td>0.072583</td>\n",
       "      <td>0.074102</td>\n",
       "      <td>-0.000260</td>\n",
       "    </tr>\n",
       "    <tr>\n",
       "      <th>100</th>\n",
       "      <td>0.024325</td>\n",
       "      <td>0.025787</td>\n",
       "      <td>-0.000260</td>\n",
       "    </tr>\n",
       "    <tr>\n",
       "      <th>101</th>\n",
       "      <td>0.024716</td>\n",
       "      <td>0.024969</td>\n",
       "      <td>-0.000260</td>\n",
       "    </tr>\n",
       "    <tr>\n",
       "      <th>102</th>\n",
       "      <td>0.072039</td>\n",
       "      <td>0.072798</td>\n",
       "      <td>-0.000260</td>\n",
       "    </tr>\n",
       "    <tr>\n",
       "      <th>103</th>\n",
       "      <td>-0.013591</td>\n",
       "      <td>-0.007836</td>\n",
       "      <td>-0.000260</td>\n",
       "    </tr>\n",
       "    <tr>\n",
       "      <th>104</th>\n",
       "      <td>0.076303</td>\n",
       "      <td>0.065017</td>\n",
       "      <td>0.019982</td>\n",
       "    </tr>\n",
       "    <tr>\n",
       "      <th>105</th>\n",
       "      <td>0.041163</td>\n",
       "      <td>0.025260</td>\n",
       "      <td>0.019982</td>\n",
       "    </tr>\n",
       "    <tr>\n",
       "      <th>106</th>\n",
       "      <td>0.001892</td>\n",
       "      <td>-0.016243</td>\n",
       "      <td>0.019982</td>\n",
       "    </tr>\n",
       "    <tr>\n",
       "      <th>107</th>\n",
       "      <td>0.070936</td>\n",
       "      <td>0.059094</td>\n",
       "      <td>0.019982</td>\n",
       "    </tr>\n",
       "    <tr>\n",
       "      <th>108</th>\n",
       "      <td>0.085145</td>\n",
       "      <td>0.075958</td>\n",
       "      <td>0.019982</td>\n",
       "    </tr>\n",
       "    <tr>\n",
       "      <th>109</th>\n",
       "      <td>0.006017</td>\n",
       "      <td>-0.012109</td>\n",
       "      <td>0.019982</td>\n",
       "    </tr>\n",
       "    <tr>\n",
       "      <th>110</th>\n",
       "      <td>0.083306</td>\n",
       "      <td>0.074102</td>\n",
       "      <td>0.019982</td>\n",
       "    </tr>\n",
       "    <tr>\n",
       "      <th>111</th>\n",
       "      <td>0.036404</td>\n",
       "      <td>0.025787</td>\n",
       "      <td>0.019982</td>\n",
       "    </tr>\n",
       "    <tr>\n",
       "      <th>112</th>\n",
       "      <td>0.042900</td>\n",
       "      <td>0.024969</td>\n",
       "      <td>0.019982</td>\n",
       "    </tr>\n",
       "    <tr>\n",
       "      <th>113</th>\n",
       "      <td>0.082601</td>\n",
       "      <td>0.072798</td>\n",
       "      <td>0.019982</td>\n",
       "    </tr>\n",
       "    <tr>\n",
       "      <th>114</th>\n",
       "      <td>0.012946</td>\n",
       "      <td>-0.007836</td>\n",
       "      <td>0.019982</td>\n",
       "    </tr>\n",
       "  </tbody>\n",
       "</table>\n",
       "<p>115 rows × 3 columns</p>\n",
       "</div>"
      ],
      "text/plain": [
       "     binding_energy  binding_energy_f1  binding_energy_f2\n",
       "0          0.055828           0.065017          -0.013137\n",
       "1          0.017070           0.025260          -0.013137\n",
       "2         -0.022213          -0.016243          -0.013137\n",
       "3          0.043509           0.059094          -0.013137\n",
       "4          0.064813           0.075958          -0.013137\n",
       "5         -0.024154          -0.012109          -0.013137\n",
       "6          0.054605           0.074102          -0.013137\n",
       "7          0.011042           0.025787          -0.013137\n",
       "8          0.015540           0.024969          -0.013137\n",
       "9          0.061907           0.072798          -0.013137\n",
       "10        -0.023430          -0.007836          -0.013137\n",
       "11         0.095029           0.065017           0.046474\n",
       "12         0.062085           0.025260           0.046474\n",
       "13         0.022622          -0.016243           0.046474\n",
       "14         0.094630           0.059094           0.046474\n",
       "15         0.103713           0.075958           0.046474\n",
       "16         0.034886          -0.012109           0.046474\n",
       "17         0.105096           0.074102           0.046474\n",
       "18         0.083337           0.025787           0.046474\n",
       "19         0.067425           0.024969           0.046474\n",
       "20         0.101706           0.072798           0.046474\n",
       "21         0.028937          -0.007836           0.046474\n",
       "22         0.061140           0.065017          -0.003877\n",
       "23         0.023361           0.025260          -0.003877\n",
       "24        -0.015767          -0.016243          -0.003877\n",
       "25         0.050892           0.059094          -0.003877\n",
       "26         0.070262           0.075958          -0.003877\n",
       "27         0.063002           0.074102          -0.003877\n",
       "28         0.019295           0.025787          -0.003877\n",
       "29         0.021901           0.024969          -0.003877\n",
       "..              ...                ...                ...\n",
       "85         0.019299          -0.016243           0.070012\n",
       "86         0.092230           0.059094           0.070012\n",
       "87         0.121592           0.075958           0.070012\n",
       "88         0.124410           0.074102           0.070012\n",
       "89         0.074800           0.025787           0.070012\n",
       "90         0.089868           0.024969           0.070012\n",
       "91         0.119592           0.072798           0.070012\n",
       "92         0.066750          -0.007836           0.070012\n",
       "93         0.064253           0.065017          -0.000260\n",
       "94         0.024806           0.025260          -0.000260\n",
       "95        -0.016129          -0.016243          -0.000260\n",
       "96         0.058051           0.059094          -0.000260\n",
       "97         0.075277           0.075958          -0.000260\n",
       "98        -0.015257          -0.012109          -0.000260\n",
       "99         0.072583           0.074102          -0.000260\n",
       "100        0.024325           0.025787          -0.000260\n",
       "101        0.024716           0.024969          -0.000260\n",
       "102        0.072039           0.072798          -0.000260\n",
       "103       -0.013591          -0.007836          -0.000260\n",
       "104        0.076303           0.065017           0.019982\n",
       "105        0.041163           0.025260           0.019982\n",
       "106        0.001892          -0.016243           0.019982\n",
       "107        0.070936           0.059094           0.019982\n",
       "108        0.085145           0.075958           0.019982\n",
       "109        0.006017          -0.012109           0.019982\n",
       "110        0.083306           0.074102           0.019982\n",
       "111        0.036404           0.025787           0.019982\n",
       "112        0.042900           0.024969           0.019982\n",
       "113        0.082601           0.072798           0.019982\n",
       "114        0.012946          -0.007836           0.019982\n",
       "\n",
       "[115 rows x 3 columns]"
      ]
     },
     "execution_count": 24,
     "metadata": {},
     "output_type": "execute_result"
    }
   ],
   "source": [
    "df_tetrid2_funcs[[\"binding_energy\", \"binding_energy_f1\", \"binding_energy_f2\"]]"
   ]
  },
  {
   "cell_type": "code",
   "execution_count": 33,
   "metadata": {},
   "outputs": [],
   "source": [
    "df_tetrid2_funcs[\"diff_f2_f1sum\"] = df_tetrid2_funcs[\"binding_energy\"] - df_tetrid2_funcs[\"binding_energy_f1\"] - df_tetrid2_funcs[\"binding_energy_f2\"]\n",
    "df_tetry2_20_funcs[\"diff_f2_f1sum\"] = df_tetry2_20_funcs[\"binding_energy\"] - df_tetry2_20_funcs[\"binding_energy_f1\"] - df_tetry2_20_funcs[\"binding_energy_f2\"]\n",
    "df_tetry2_17_funcs[\"diff_f2_f1sum\"] = df_tetry2_17_funcs[\"binding_energy\"] - df_tetry2_17_funcs[\"binding_energy_f1\"] - df_tetry2_17_funcs[\"binding_energy_f2\"]\n",
    "\n",
    "df_tetrid2_funcs[\"f1sum\"] = df_tetrid2_funcs[\"binding_energy_f1\"] + df_tetrid2_funcs[\"binding_energy_f2\"]\n",
    "df_tetry2_20_funcs[\"f1sum\"] = df_tetry2_20_funcs[\"binding_energy_f1\"] + df_tetry2_20_funcs[\"binding_energy_f2\"]\n",
    "df_tetry2_17_funcs[\"f1sum\"] = df_tetry2_17_funcs[\"binding_energy_f1\"] + df_tetry2_17_funcs[\"binding_energy_f2\"]"
   ]
  },
  {
   "cell_type": "code",
   "execution_count": 32,
   "metadata": {},
   "outputs": [
    {
     "name": "stdout",
     "output_type": "stream",
     "text": [
      "-0.005511753690582572 0.009300810060209093\n",
      "0.04741143132089017 0.03722667591924179\n",
      "0.011832744115522613 0.029589467011433068\n",
      "0.03899139402438741 0.06717232918858224\n",
      "0.02490709645832423 0.13862981118874007\n",
      "0.059929635978591994 0.1627677305765774\n"
     ]
    }
   ],
   "source": [
    "print(df_tetrid2_funcs[\"diff_f2_f1sum\"].mean(), df_tetrid2_funcs[\"diff_f2_f1sum\"].std())\n",
    "print(df_tetrid2_funcs[\"binding_energy\"].mean(), df_tetrid2_funcs[\"binding_energy\"].std())\n",
    "print(df_tetry2_17_funcs[\"diff_f2_f1sum\"].mean(), df_tetry2_17_funcs[\"diff_f2_f1sum\"].std())\n",
    "print(df_tetry2_17_funcs[\"binding_energy\"].mean(), df_tetry2_17_funcs[\"binding_energy\"].std())\n",
    "print(df_tetry2_20_funcs[\"diff_f2_f1sum\"].mean(), df_tetry2_20_funcs[\"diff_f2_f1sum\"].std())\n",
    "print(df_tetry2_20_funcs[\"binding_energy\"].mean(), df_tetry2_20_funcs[\"binding_energy\"].std())"
   ]
  },
  {
   "cell_type": "code",
   "execution_count": 46,
   "metadata": {},
   "outputs": [],
   "source": [
    "import seaborn as sns"
   ]
  },
  {
   "cell_type": "code",
   "execution_count": 50,
   "metadata": {},
   "outputs": [],
   "source": [
    "plt.rcParams.update({'font.size': 16})"
   ]
  },
  {
   "cell_type": "code",
   "execution_count": 54,
   "metadata": {},
   "outputs": [
    {
     "data": {
      "image/png": "[encoded data removed]",
      "text/plain": [
       "<Figure size 720x720 with 1 Axes>"
      ]
     },
     "metadata": {
      "needs_background": "light"
     },
     "output_type": "display_data"
    }
   ],
   "source": [
    "# correlation plot of binding energy sum difference\n",
    "plt.figure(figsize=(10,10))\n",
    "plt.scatter(df_tetrid2_funcs[\"binding_energy\"], df_tetrid2_funcs[\"f1sum\"], s=80)\n",
    "#sns.scatterplot(data=df_tetrid2_funcs, x=\"binding_energy\", y=\"f1sum\")\n",
    "bounds = [-.055, 0.155]\n",
    "plt.plot(bounds, bounds, color=\"k\")\n",
    "plt.ylim(bounds)\n",
    "plt.xlim(bounds)\n",
    "plt.ylabel(\"Sum Effect of Individual Substitutions\")\n",
    "plt.xlabel(r\"O$_2$-Binding Energy Difference from Substitutions\")\n",
    "plt.savefig(\"O2_additive_func_effects.png\")"
   ]
  },
  {
   "cell_type": "code",
   "execution_count": 38,
   "metadata": {},
   "outputs": [
    {
     "data": {
      "text/plain": [
       "<matplotlib.collections.PathCollection at 0x7f5a1af3eef0>"
      ]
     },
     "execution_count": 38,
     "metadata": {},
     "output_type": "execute_result"
    },
    {
     "data": {
      "image/png": "[encoded data removed]",
      "text/plain": [
       "<Figure size 432x288 with 1 Axes>"
      ]
     },
     "metadata": {
      "needs_background": "light"
     },
     "output_type": "display_data"
    }
   ],
   "source": [
    "plt.scatter(df_tetry2_17_funcs[\"binding_energy\"], df_tetry2_17_funcs[\"f1sum\"])"
   ]
  },
  {
   "cell_type": "code",
   "execution_count": 39,
   "metadata": {},
   "outputs": [
    {
     "data": {
      "text/plain": [
       "<matplotlib.collections.PathCollection at 0x7f5a1aea2f60>"
      ]
     },
     "execution_count": 39,
     "metadata": {},
     "output_type": "execute_result"
    },
    {
     "data": {
      "image/png": "[encoded data removed]",
      "text/plain": [
       "<Figure size 432x288 with 1 Axes>"
      ]
     },
     "metadata": {
      "needs_background": "light"
     },
     "output_type": "display_data"
    }
   ],
   "source": [
    "plt.scatter(df_tetry2_20_funcs[\"binding_energy\"], df_tetry2_20_funcs[\"f1sum\"])"
   ]
  },
  {
   "cell_type": "code",
   "execution_count": null,
   "metadata": {},
   "outputs": [],
   "source": []
  }
 ],
 "metadata": {
  "kernelspec": {
   "display_name": "Python 3",
   "language": "python",
   "name": "python3"
  },
  "language_info": {
   "codemirror_mode": {
    "name": "ipython",
    "version": 3
   },
   "file_extension": ".py",
   "mimetype": "text/x-python",
   "name": "python",
   "nbconvert_exporter": "python",
   "pygments_lexer": "ipython3",
   "version": "3.7.2"
  }
 },
 "nbformat": 4,
 "nbformat_minor": 2
}
